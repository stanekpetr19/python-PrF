{
 "cells": [
  {
   "cell_type": "code",
   "execution_count": 1,
   "metadata": {
    "collapsed": true
   },
   "outputs": [],
   "source": [
    "my_list=[\"banana\",42,\"Petr\",[\"a\",\"b\",\"c\"]]\n",
    "# my_list=[] vytvori prazdny seznam"
   ]
  },
  {
   "cell_type": "code",
   "execution_count": 2,
   "metadata": {},
   "outputs": [
    {
     "data": {
      "text/plain": [
       "list"
      ]
     },
     "execution_count": 2,
     "metadata": {},
     "output_type": "execute_result"
    }
   ],
   "source": [
    "type(my_list)"
   ]
  },
  {
   "cell_type": "code",
   "execution_count": 3,
   "metadata": {},
   "outputs": [
    {
     "data": {
      "text/plain": [
       "4"
      ]
     },
     "execution_count": 3,
     "metadata": {},
     "output_type": "execute_result"
    }
   ],
   "source": [
    "len(my_list)"
   ]
  },
  {
   "cell_type": "code",
   "execution_count": 5,
   "metadata": {},
   "outputs": [
    {
     "data": {
      "text/plain": [
       "3"
      ]
     },
     "execution_count": 5,
     "metadata": {},
     "output_type": "execute_result"
    }
   ],
   "source": [
    "len(my_list[3])"
   ]
  },
  {
   "cell_type": "code",
   "execution_count": 9,
   "metadata": {},
   "outputs": [
    {
     "data": {
      "text/plain": [
       "'c'"
      ]
     },
     "execution_count": 9,
     "metadata": {},
     "output_type": "execute_result"
    }
   ],
   "source": [
    "my_list[3][2]"
   ]
  },
  {
   "cell_type": "code",
   "execution_count": 10,
   "metadata": {
    "collapsed": true
   },
   "outputs": [],
   "source": [
    "#mozno scitat, odcitat, nasobit,...\n",
    "#mozno pripojovat!"
   ]
  },
  {
   "cell_type": "code",
   "execution_count": 15,
   "metadata": {},
   "outputs": [],
   "source": [
    "my_list[3].append(\"d\")"
   ]
  },
  {
   "cell_type": "code",
   "execution_count": 14,
   "metadata": {},
   "outputs": [],
   "source": [
    "del my_list[3][3]"
   ]
  },
  {
   "cell_type": "code",
   "execution_count": 16,
   "metadata": {},
   "outputs": [
    {
     "data": {
      "text/plain": [
       "['banana', 42, 'Petr', ['a', 'b', 'c', 'd']]"
      ]
     },
     "execution_count": 16,
     "metadata": {},
     "output_type": "execute_result"
    }
   ],
   "source": [
    "my_list"
   ]
  },
  {
   "cell_type": "code",
   "execution_count": 48,
   "metadata": {},
   "outputs": [
    {
     "name": "stdout",
     "output_type": "stream",
     "text": [
      "Od jakeho cisla mam zacit?1\n",
      "Kolik cisel mam pridat?15\n",
      "Jaky je krok?2\n",
      "[1, 3, 5, 7, 9, 11, 13, 15, 17, 19, 21, 23, 25, 27, 29, 31]\n"
     ]
    }
   ],
   "source": [
    "x=input(\"Od jakeho cisla mam zacit?\")\n",
    "n=input(\"Kolik cisel mam pridat?\")\n",
    "a=input(\"Jaky je krok?\")\n",
    "x=int(x)\n",
    "n=int(n)\n",
    "a=int(a)\n",
    "b=1\n",
    "list1=[x]\n",
    "\n",
    "while x<n*a:\n",
    "    x=x+a\n",
    "    list1.append(x)\n",
    "\n",
    "print(list1)"
   ]
  },
  {
   "cell_type": "code",
   "execution_count": 22,
   "metadata": {},
   "outputs": [
    {
     "name": "stdout",
     "output_type": "stream",
     "text": [
      "Dalsi konicek:Posilka\n"
     ]
    }
   ],
   "source": [
    "konicky=[]\n"
   ]
  },
  {
   "cell_type": "code",
   "execution_count": 36,
   "metadata": {},
   "outputs": [
    {
     "name": "stdout",
     "output_type": "stream",
     "text": [
      "Dalsi konicek:Plavání\n"
     ]
    }
   ],
   "source": [
    "konicek=input(\"Dalsi konicek:\")\n",
    "konicky.append(konicek)"
   ]
  },
  {
   "cell_type": "code",
   "execution_count": 29,
   "metadata": {},
   "outputs": [
    {
     "data": {
      "text/plain": [
       "['Posilka', 'Fotografování', 'Kytara', 'Šachy', 'Plavání', 'Woodwork']"
      ]
     },
     "execution_count": 29,
     "metadata": {},
     "output_type": "execute_result"
    }
   ],
   "source": [
    "konicky"
   ]
  },
  {
   "cell_type": "code",
   "execution_count": 30,
   "metadata": {},
   "outputs": [
    {
     "data": {
      "text/plain": [
       "'Fotografování'"
      ]
     },
     "execution_count": 30,
     "metadata": {},
     "output_type": "execute_result"
    }
   ],
   "source": [
    "konicky[1]"
   ]
  },
  {
   "cell_type": "code",
   "execution_count": 32,
   "metadata": {},
   "outputs": [
    {
     "data": {
      "text/plain": [
       "'Woodwork'"
      ]
     },
     "execution_count": 32,
     "metadata": {},
     "output_type": "execute_result"
    }
   ],
   "source": [
    "konicky[-1]"
   ]
  },
  {
   "cell_type": "code",
   "execution_count": 34,
   "metadata": {
    "collapsed": true
   },
   "outputs": [],
   "source": [
    "del konicky[-1]"
   ]
  },
  {
   "cell_type": "code",
   "execution_count": 37,
   "metadata": {},
   "outputs": [
    {
     "data": {
      "text/plain": [
       "['Posilka', 'Fotografování', 'Kytara', 'Šachy', 'Plavání']"
      ]
     },
     "execution_count": 37,
     "metadata": {},
     "output_type": "execute_result"
    }
   ],
   "source": [
    "konicky"
   ]
  },
  {
   "cell_type": "code",
   "execution_count": 38,
   "metadata": {
    "collapsed": true
   },
   "outputs": [],
   "source": [
    "cities = ['Praha','Brno', 'Ostrava', 'Plzen', 'Liberec', 'Olomouc', 'Usti nad Labem', 'Hradec Kralove', 'Ceské Budejovice', 'Pardubice']"
   ]
  },
  {
   "cell_type": "code",
   "execution_count": 39,
   "metadata": {
    "collapsed": true
   },
   "outputs": [],
   "source": [
    "cities.sort()"
   ]
  },
  {
   "cell_type": "code",
   "execution_count": 40,
   "metadata": {},
   "outputs": [
    {
     "data": {
      "text/plain": [
       "['Brno',\n",
       " 'Ceské Budejovice',\n",
       " 'Hradec Kralove',\n",
       " 'Liberec',\n",
       " 'Olomouc',\n",
       " 'Ostrava',\n",
       " 'Pardubice',\n",
       " 'Plzen',\n",
       " 'Praha',\n",
       " 'Usti nad Labem']"
      ]
     },
     "execution_count": 40,
     "metadata": {},
     "output_type": "execute_result"
    }
   ],
   "source": [
    "cities"
   ]
  },
  {
   "cell_type": "code",
   "execution_count": 41,
   "metadata": {},
   "outputs": [
    {
     "data": {
      "text/plain": [
       "'Brno*Ceské Budejovice*Hradec Kralove*Liberec*Olomouc*Ostrava*Pardubice*Plzen*Praha*Usti nad Labem'"
      ]
     },
     "execution_count": 41,
     "metadata": {},
     "output_type": "execute_result"
    }
   ],
   "source": [
    "\"*\".join(cities)\n",
    "#vystupem je str vsech prvku listu spojenych zadanym retezcem"
   ]
  },
  {
   "cell_type": "code",
   "execution_count": 49,
   "metadata": {},
   "outputs": [],
   "source": [
    "#globals() - vypise vsechny nadefinovane promenne"
   ]
  },
  {
   "cell_type": "code",
   "execution_count": 68,
   "metadata": {
    "collapsed": true
   },
   "outputs": [],
   "source": [
    "alphabet = 'abcdefghijklmnopqrstuvwxyz'\n",
    "zen=\"\"\"Beautiful is better than ugly.\n",
    "Explicit is better than implicit.\n",
    "Simple is better than complex.\n",
    "Complex is better than complicated.\n",
    "Flat is better than nested.\n",
    "Sparse is better than dense.\n",
    "Readability counts.\n",
    "Special cases aren't special enough to break the rules.\n",
    "Although practicality beats purity.\n",
    "Errors should never pass silently.\n",
    "Unless explicitly silenced.\n",
    "In the face of ambiguity, refuse the temptation to guess.\n",
    "There should be one-- and preferably only one --obvious way to do it.\n",
    "Although that way may not be obvious at first unless you're Dutch.\n",
    "Now is better than never.\n",
    "Although never is often better than *right* now.\n",
    "If the implementation is hard to explain, it's a bad idea.\n",
    "If the implementation is easy to explain, it may be a good idea.\n",
    "Namespaces are one honking great idea -- let's do more of those!\"\"\"\n",
    "#\"\"\" ignoruje radky - bere cely text"
   ]
  },
  {
   "cell_type": "code",
   "execution_count": 69,
   "metadata": {},
   "outputs": [],
   "source": [
    "alphabet=set(alphabet)\n",
    "zen=set(zen.lower())"
   ]
  },
  {
   "cell_type": "code",
   "execution_count": 70,
   "metadata": {},
   "outputs": [
    {
     "data": {
      "text/plain": [
       "{'j', 'q', 'z'}"
      ]
     },
     "execution_count": 70,
     "metadata": {},
     "output_type": "execute_result"
    }
   ],
   "source": [
    "alphabet.difference(zen)"
   ]
  },
  {
   "cell_type": "code",
   "execution_count": 55,
   "metadata": {
    "collapsed": true
   },
   "outputs": [],
   "source": [
    "d = {'pajton':'Vysokoúrovňový skriptovací programovací jazyk'}"
   ]
  },
  {
   "cell_type": "code",
   "execution_count": 56,
   "metadata": {
    "collapsed": true
   },
   "outputs": [],
   "source": [
    "d[\"python\"]=d[\"pajton\"]"
   ]
  },
  {
   "cell_type": "code",
   "execution_count": 57,
   "metadata": {},
   "outputs": [
    {
     "data": {
      "text/plain": [
       "{'pajton': 'Vysokoúrovňový skriptovací programovací jazyk',\n",
       " 'python': 'Vysokoúrovňový skriptovací programovací jazyk'}"
      ]
     },
     "execution_count": 57,
     "metadata": {},
     "output_type": "execute_result"
    }
   ],
   "source": [
    "d"
   ]
  },
  {
   "cell_type": "code",
   "execution_count": 58,
   "metadata": {
    "collapsed": true
   },
   "outputs": [],
   "source": [
    "del d[\"pajton\"]"
   ]
  },
  {
   "cell_type": "code",
   "execution_count": 59,
   "metadata": {},
   "outputs": [
    {
     "data": {
      "text/plain": [
       "{'python': 'Vysokoúrovňový skriptovací programovací jazyk'}"
      ]
     },
     "execution_count": 59,
     "metadata": {},
     "output_type": "execute_result"
    }
   ],
   "source": [
    "d"
   ]
  },
  {
   "cell_type": "code",
   "execution_count": 76,
   "metadata": {},
   "outputs": [
    {
     "name": "stdout",
     "output_type": "stream",
     "text": [
      "1. pismeno abecedy je: a\n",
      "2. pismeno abecedy je: b\n",
      "3. pismeno abecedy je: c\n",
      "4. pismeno abecedy je: d\n",
      "5. pismeno abecedy je: e\n",
      "6. pismeno abecedy je: f\n",
      "7. pismeno abecedy je: g\n",
      "8. pismeno abecedy je: h\n",
      "9. pismeno abecedy je: i\n",
      "10. pismeno abecedy je: j\n",
      "11. pismeno abecedy je: k\n",
      "12. pismeno abecedy je: l\n",
      "13. pismeno abecedy je: m\n",
      "14. pismeno abecedy je: n\n",
      "15. pismeno abecedy je: o\n",
      "16. pismeno abecedy je: p\n",
      "17. pismeno abecedy je: q\n",
      "18. pismeno abecedy je: r\n",
      "19. pismeno abecedy je: s\n",
      "20. pismeno abecedy je: t\n",
      "21. pismeno abecedy je: u\n",
      "22. pismeno abecedy je: v\n",
      "23. pismeno abecedy je: w\n",
      "24. pismeno abecedy je: x\n",
      "25. pismeno abecedy je: y\n",
      "26. pismeno abecedy je: z\n"
     ]
    }
   ],
   "source": [
    "alphabet=list(alphabet)\n",
    "alphabet.sort()\n",
    "poradi_pismene=1\n",
    "for i in alphabet:\n",
    "    print(str(poradi_pismene)+\". pismeno abecedy je: \"+str(i))\n",
    "    poradi_pismene=poradi_pismene+1"
   ]
  },
  {
   "cell_type": "code",
   "execution_count": 8,
   "metadata": {},
   "outputs": [
    {
     "name": "stdout",
     "output_type": "stream",
     "text": [
      "{1: 5.7, 2: 0.87, 3: 4.36, 4: 2.42, 5: 1.32, 6: 2.01, 7: 0.43, 8: 2.47, 9: 1.91}\n"
     ]
    }
   ],
   "source": [
    "#list - repeatable, indexed\n",
    "lchain_l = [5.7,0.87,4.36,2.42,1.32,2.01,0.43,2.47,1.91,0.791]\n",
    "numbers_l = list(range(1,10))\n",
    "\n",
    "#set - unique, unindexed\n",
    "#set1.intersection(set2)\n",
    "#set1.difference(set2) CAVE != set2.difference(set1)\n",
    "lchain_s = {5.7,0.87,4.36,2.42,1.32,2.01,0.43,2.47,1.91,0.791}\n",
    "\n",
    "#dictionary - made of pairs key:value, key is fixed, value variable\n",
    "\n",
    "lchain_d = dict(zip(numbers_l, lchain_l))\n",
    "print(lchain_d)\n"
   ]
  },
  {
   "cell_type": "code",
   "execution_count": 9,
   "metadata": {},
   "outputs": [
    {
     "data": {
      "text/plain": [
       "4.36"
      ]
     },
     "execution_count": 9,
     "metadata": {},
     "output_type": "execute_result"
    }
   ],
   "source": [
    "lchain_d.keys()\n",
    "lchain_d.values()\n",
    "lchain_d[3]"
   ]
  },
  {
   "cell_type": "code",
   "execution_count": null,
   "metadata": {},
   "outputs": [],
   "source": []
  }
 ],
 "metadata": {
  "kernelspec": {
   "display_name": "Python 3",
   "language": "python",
   "name": "python3"
  },
  "language_info": {
   "codemirror_mode": {
    "name": "ipython",
    "version": 3
   },
   "file_extension": ".py",
   "mimetype": "text/x-python",
   "name": "python",
   "nbconvert_exporter": "python",
   "pygments_lexer": "ipython3",
   "version": "3.6.9"
  }
 },
 "nbformat": 4,
 "nbformat_minor": 2
}
