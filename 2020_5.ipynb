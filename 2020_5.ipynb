{
 "cells": [
  {
   "cell_type": "code",
   "execution_count": null,
   "metadata": {},
   "outputs": [],
   "source": []
  },
  {
   "cell_type": "code",
   "execution_count": null,
   "metadata": {},
   "outputs": [],
   "source": []
  },
  {
   "cell_type": "code",
   "execution_count": null,
   "metadata": {},
   "outputs": [],
   "source": []
  },
  {
   "cell_type": "code",
   "execution_count": 2,
   "metadata": {},
   "outputs": [
    {
     "name": "stdout",
     "output_type": "stream",
     "text": [
      "[[PYTHON]]\n"
     ]
    }
   ],
   "source": [
    "a = '[[]]'\n",
    "b = 'PYTHON'\n",
    "\n",
    "c = a[0:2]+b+a[2:4]\n",
    "print(c)"
   ]
  },
  {
   "cell_type": "code",
   "execution_count": 1,
   "metadata": {},
   "outputs": [
    {
     "data": {
      "text/plain": [
       "'My hobby is thinking about you.'"
      ]
     },
     "execution_count": 1,
     "metadata": {},
     "output_type": "execute_result"
    }
   ],
   "source": [
    "hobby = 'thinking about you'\n",
    "'My hobby is {}.'.format(hobby)"
   ]
  },
  {
   "cell_type": "code",
   "execution_count": 3,
   "metadata": {},
   "outputs": [
    {
     "name": "stdout",
     "output_type": "stream",
     "text": [
      "Vlozte pocet hodin:40\n",
      "Hodinova mzda:200\n",
      "Odpracoval jsi 40 hodin za hodinovou mzdu 200 Kc/hodinu a vydelal jsi 8000 korun.\n"
     ]
    }
   ],
   "source": [
    "hours_count = int(input('Vlozte pocet hodin:'))\n",
    "wage = int(input('Hodinova mzda:'))\n",
    "\n",
    "print('Odpracoval jsi {} hodin za hodinovou mzdu {} Kc/hodinu a vydelal jsi {} korun.'.format(hours_count, wage, hours_count*wage))\n"
   ]
  },
  {
   "cell_type": "code",
   "execution_count": null,
   "metadata": {},
   "outputs": [],
   "source": []
  }
 ],
 "metadata": {
  "kernelspec": {
   "display_name": "Python 3",
   "language": "python",
   "name": "python3"
  },
  "language_info": {
   "codemirror_mode": {
    "name": "ipython",
    "version": 3
   },
   "file_extension": ".py",
   "mimetype": "text/x-python",
   "name": "python",
   "nbconvert_exporter": "python",
   "pygments_lexer": "ipython3",
   "version": "3.6.9"
  }
 },
 "nbformat": 4,
 "nbformat_minor": 4
}
