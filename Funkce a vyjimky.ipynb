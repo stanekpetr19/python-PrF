{
 "cells": [
  {
   "cell_type": "code",
   "execution_count": 4,
   "metadata": {},
   "outputs": [
    {
     "name": "stdout",
     "output_type": "stream",
     "text": [
      "Vaší míce je 50 lidských let\n"
     ]
    }
   ],
   "source": [
    "# def - definuje fukci\n",
    "# pozor - print fuknce nikam nic neukládá!!!\n",
    "# výsledek funkce by neměl být print\n",
    "\n",
    "human_age = 0\n",
    "\n",
    "def cat_age(years):\n",
    "    if years <= 0:\n",
    "        print(\"Vaše míca je příliš mladá...\")\n",
    "    elif years == 1:\n",
    "        human_age = 18\n",
    "    elif years == 2:\n",
    "        human_age = 18 + 7\n",
    "    elif years > 2 and years < 35:\n",
    "        human_age = 18 + 7 + (years - 2)*5\n",
    "    elif years >= 35:\n",
    "        print(\"Vaše kočka je nejstarší kočkou na světě!\")\n",
    "    else:\n",
    "        print(\"Error\")\n",
    "\n",
    "    if years > 0 and years < 35:\n",
    "        print(\"Vaší míce je {} lidských let\".format(human_age))\n",
    "        \n",
    "cat_age(7)\n",
    "\n",
    "# promenné nejsou definované mimo funkci!!! jejich život končí vykonáním fukce\n",
    "# pokud chci vrátit něco z funkce, musím použít return\n",
    "\n",
    "# naše fukce nejprve hledá proměnné uvnitř naší fce, pokud není uvnitř definovaná\n",
    "\n"
   ]
  },
  {
   "cell_type": "code",
   "execution_count": 6,
   "metadata": {},
   "outputs": [
    {
     "ename": "SyntaxError",
     "evalue": "invalid syntax (<ipython-input-6-78898649b835>, line 1)",
     "output_type": "error",
     "traceback": [
      "\u001b[1;36m  File \u001b[1;32m\"<ipython-input-6-78898649b835>\"\u001b[1;36m, line \u001b[1;32m1\u001b[0m\n\u001b[1;33m    assert\u001b[0m\n\u001b[1;37m           ^\u001b[0m\n\u001b[1;31mSyntaxError\u001b[0m\u001b[1;31m:\u001b[0m invalid syntax\n"
     ]
    }
   ],
   "source": [
    "assert "
   ]
  },
  {
   "cell_type": "code",
   "execution_count": 9,
   "metadata": {},
   "outputs": [
    {
     "name": "stdout",
     "output_type": "stream",
     "text": [
      "-1\n",
      "1\n"
     ]
    }
   ],
   "source": [
    "# argumenty můžeme zapisovat buď pozičně, nebo explcitně\n",
    "\n",
    "def odecet(prvni, druhy):\n",
    "    return prvni - druhy\n",
    "\n",
    "print(odecet(1,2))\n",
    "\n",
    "print(odecet(druhy=1, prvni=2))"
   ]
  },
  {
   "cell_type": "code",
   "execution_count": 1,
   "metadata": {},
   "outputs": [],
   "source": [
    "# Implicitní hodnoty parametrů\n",
    "# Můžeme zadat přednastavené parametry, které jsou poté nepovinné k zadávání\n",
    "\n",
    "def hello(name=\"Petr\"):\n",
    "    \"\"\"dokumentace funkce\"\"\"\n",
    "    print(\"Ahoj, {}\".format(name))"
   ]
  },
  {
   "cell_type": "code",
   "execution_count": 2,
   "metadata": {},
   "outputs": [],
   "source": [
    "hello??"
   ]
  },
  {
   "cell_type": "code",
   "execution_count": 28,
   "metadata": {},
   "outputs": [
    {
     "name": "stdout",
     "output_type": "stream",
     "text": [
      "Počet velkých:5 malých:100 ostatních:37\n",
      "Počet velkých písmen je: 5\n",
      "Počet malých písmen je: 100\n",
      "Počet ostantních znaků je: 37\n",
      "Počet velkých:100 malých:5 ostatních:37\n"
     ]
    }
   ],
   "source": [
    "#Ukol1\n",
    "#Napište funkci, která bere jako parametr textový řetězec a vrací počet velkých a malých písmen\n",
    "\n",
    "vstup = \"\"\"Byl jeden Řek a ten mi řek, abych mu řek, \n",
    "kolik je v Řecku řeckých řek a já mu řek, \n",
    "že nejsem Řek abych mu řek kolik je v Řecku řeckých řek.\"\"\"\n",
    "\n",
    "def string_upper_lower(s):\n",
    "    cap = 0\n",
    "    low = 0\n",
    "    misc = 0\n",
    "    for x in s:\n",
    "        if x.isupper():             #musí být závorky!!\n",
    "            cap += 1\n",
    "        elif x.islower():           #musí být závorky!!\n",
    "            low += 1\n",
    "        else:\n",
    "            misc += 1\n",
    "    return cap, low, misc\n",
    "\n",
    "print (\"Počet velkých:{} malých:{} ostatních:{}\".format(*string_upper_lower(vstup)))\n",
    "#bez hvězdičky s tím .format nedokáže pracovat, bere vrácený set jako jednu hodnotu\n",
    "\n",
    "print(\"Počet velkých písmen je: \" + str(string_upper_lower(vstup)[0]))\n",
    "print(\"Počet malých písmen je: \" + str(string_upper_lower(vstup)[1]))\n",
    "print(\"Počet ostantních znaků je: \" + str(string_upper_lower(vstup)[2]))\n",
    "\n",
    "lower, upper, misc = string_upper_lower(vstup)\n",
    "print (f\"Počet velkých: {upper} malých: {lower} ostatních: {misc}\")"
   ]
  },
  {
   "cell_type": "code",
   "execution_count": 34,
   "metadata": {},
   "outputs": [
    {
     "name": "stdout",
     "output_type": "stream",
     "text": [
      "Cena: 500\n",
      "Pocet stravenek: 6\n",
      "Doplatek: 68\n"
     ]
    }
   ],
   "source": [
    "#Ukol2\n",
    "\n",
    "def meal_vouchers(cost, voucher_value = 80):\n",
    "    voucher_count = cost // voucher_value\n",
    "    remainder = cost % voucher_value \n",
    "    return voucher_count, remainder, cost\n",
    "\n",
    "\n",
    "\n",
    "voucher_count, remainder, cost = meal_vouchers(500, 72)\n",
    "\n",
    "print(\"Cena: \" + str(cost))\n",
    "print(\"Pocet stravenek: \" + str(voucher_count))\n",
    "print(\"Doplatek: \" + str(remainder))"
   ]
  },
  {
   "cell_type": "code",
   "execution_count": 7,
   "metadata": {},
   "outputs": [
    {
     "name": "stdout",
     "output_type": "stream",
     "text": [
      "Zadejte cenu:500\n",
      "Cena: 500 \n",
      "Pocet stravenek: 6 \n",
      "Doplatek: 20\n"
     ]
    }
   ],
   "source": [
    "cost = int(input('Zadejte cenu:'))\n",
    "\n",
    "def meal_vouchers(cost, voucher_value=80):\n",
    "    voucher_count = cost // voucher_value\n",
    "    remainder = cost % voucher_value\n",
    "    \n",
    "    return voucher_count, remainder\n",
    "\n",
    "print(f'Cena: {cost} \\nPocet stravenek: {meal_vouchers(cost)[0]} \\nDoplatek: {meal_vouchers(cost)[1]}')"
   ]
  },
  {
   "cell_type": "code",
   "execution_count": 37,
   "metadata": {},
   "outputs": [
    {
     "name": "stdout",
     "output_type": "stream",
     "text": [
      "6\n",
      "Chyba\n"
     ]
    }
   ],
   "source": [
    "# Vyjimky\n",
    "# =======\n",
    "\n",
    "try:                           # zkusi provest kod\n",
    "    print(3 + 3)\n",
    "    print(\"X\" + 3)\n",
    "    print(2 + 5)\n",
    "except:                        # provede se pri vyjimce\n",
    "    print(\"Chyba\")"
   ]
  }
 ],
 "metadata": {
  "kernelspec": {
   "display_name": "Python 3",
   "language": "python",
   "name": "python3"
  },
  "language_info": {
   "codemirror_mode": {
    "name": "ipython",
    "version": 3
   },
   "file_extension": ".py",
   "mimetype": "text/x-python",
   "name": "python",
   "nbconvert_exporter": "python",
   "pygments_lexer": "ipython3",
   "version": "3.6.9"
  }
 },
 "nbformat": 4,
 "nbformat_minor": 2
}
