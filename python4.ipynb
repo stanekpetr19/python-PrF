{
 "cells": [
  {
   "cell_type": "code",
   "execution_count": 13,
   "metadata": {},
   "outputs": [
    {
     "data": {
      "text/plain": [
       "0.3"
      ]
     },
     "execution_count": 13,
     "metadata": {},
     "output_type": "execute_result"
    }
   ],
   "source": [
    "#Vytvořte funkci, která pro sekvencí vypočítá podíl příslušného nukleotidu\n",
    "\n",
    "seq = 'ACTGAATGCT'\n",
    "\n",
    "def nucl_freq(seq='ACTGAATGCT', nuc=\"A\"):\n",
    "    count_nuc = 0\n",
    "    n_freq = 0\n",
    "    for i in seq:\n",
    "        if i == nuc:\n",
    "            count_nuc += 1\n",
    "    n_freq = count_nuc/len(seq)\n",
    "    return n_freq\n",
    "\n",
    "assert nucl_freq() == 0.3\n",
    "assert nucl_freq(seq,\"C\") == 0.2\n",
    "assert nucl_freq(seq,\"T\") == 0.3\n",
    "\n",
    "a_freq = nucl_freq(seq,\"A\")\n",
    "a_freq"
   ]
  },
  {
   "cell_type": "code",
   "execution_count": 39,
   "metadata": {},
   "outputs": [
    {
     "data": {
      "text/plain": [
       "{'A': 0.3, 'C': 0.2, 'G': 0.2, 'T': 0.3}"
      ]
     },
     "execution_count": 39,
     "metadata": {},
     "output_type": "execute_result"
    }
   ],
   "source": [
    "#S použitím předešlé funkce udělejte jinou funkci, která spočítá podíly všech nukleotidů (A, C, G, T) a vrátí slovník\n",
    "\n",
    "def nucl_freqs(seq):\n",
    "    freqs_dic = {'A': 0, 'C': 0, 'G': 0, 'T': 0}\n",
    "    n = 0\n",
    "    while n < 4:\n",
    "        keys = list(freqs_dic.keys())\n",
    "        count = nucl_freq(seq, keys[n])\n",
    "        freqs_dic[keys[n]] = count\n",
    "        n += 1\n",
    "    return freqs_dic\n",
    "\n",
    "assert nucl_freqs(seq)[\"A\"] == 0.3\n",
    "assert nucl_freqs(seq)[\"G\"] == 0.2\n",
    "assert nucl_freqs(seq) == {'A': 0.3, 'C': 0.2, 'G': 0.2, 'T': 0.3}\n",
    "\n",
    "freqs = nucl_freqs(seq)\n",
    "\n",
    "freqs\n",
    "    "
   ]
  },
  {
   "cell_type": "code",
   "execution_count": null,
   "metadata": {},
   "outputs": [],
   "source": []
  }
 ],
 "metadata": {
  "kernelspec": {
   "display_name": "Python 3",
   "language": "python",
   "name": "python3"
  },
  "language_info": {
   "codemirror_mode": {
    "name": "ipython",
    "version": 3
   },
   "file_extension": ".py",
   "mimetype": "text/x-python",
   "name": "python",
   "nbconvert_exporter": "python",
   "pygments_lexer": "ipython3",
   "version": "3.6.9"
  }
 },
 "nbformat": 4,
 "nbformat_minor": 2
}
