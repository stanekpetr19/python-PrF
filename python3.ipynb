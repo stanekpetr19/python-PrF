{
 "cells": [
  {
   "cell_type": "code",
   "execution_count": 23,
   "metadata": {},
   "outputs": [
    {
     "name": "stdout",
     "output_type": "stream",
     "text": [
      "Pocet písmen v textu je: 52\n",
      "Pocet cislic v textu je: 3\n",
      "Pocet jinych znaku v textu je: 19\n",
      "Z toho mezer: 13\n",
      "Celkovy pocet znaku v textu je: 74\n"
     ]
    }
   ],
   "source": [
    "veta = 'Král řekl Honzovi: \"Ta saň má 7 hlav! Zabij ji a dostaneš 1/2 království.\"'\n",
    "set_znaku = set(veta)\n",
    "delka = len(set_znaku)\n",
    "\n",
    "qwerty = \"qwertzuiopasdfghjklyxcvbnm\"\n",
    "diacritics = \"ěščřžýáíéúůďťňó\"\n",
    "alphabet = set(qwerty)\n",
    "alphabet.update(set(diacritics))\n",
    "\n",
    "nummers = set(\"1234567890\")\n",
    "\n",
    "letters_count = 0\n",
    "nummers_count = 0\n",
    "mezery_count = 0\n",
    "\n",
    "for x in list_znaku:\n",
    "    pass\n",
    "    if bool(alphabet.intersection(x.lower())):\n",
    "        letters_count = letters_count + 1\n",
    "    elif bool(nummers.intersection(x)):\n",
    "        nummers_count = nummers_count + 1\n",
    "    elif x == \" \":\n",
    "        mezery_count = mezery_count + 1\n",
    "\n",
    "print(\"Pocet písmen v textu je: \" + str(letters_count))\n",
    "print(\"Pocet cislic v textu je: \" + str(nummers_count))\n",
    "print(\"Pocet jinych znaku v textu je: \" + str(delka - nummers_count - letters_count))\n",
    "print(\"Z toho mezer: \" + str(mezery_count))\n",
    "print(\"Celkovy pocet znaku v textu je: \" + str(delka))"
   ]
  },
  {
   "cell_type": "code",
   "execution_count": 40,
   "metadata": {},
   "outputs": [
    {
     "name": "stdout",
     "output_type": "stream",
     "text": [
      "Zadejte vek vaší míci: 21\n",
      "Vaší míce je: 120 lidských let\n"
     ]
    }
   ],
   "source": [
    "cat_age = int(input(\"Zadejte vek vaší míci: \"))\n",
    "human_age = 0\n",
    "\n",
    "if cat_age <= 0:\n",
    "    print(\"Vaše míca je příliš mladá...\")\n",
    "elif cat_age == 1:\n",
    "    human_age = 18\n",
    "elif cat_age == 2:\n",
    "    human_age = 18 + 7\n",
    "elif cat_age > 2 and cat_age < 35:\n",
    "    human_age = 18 + 7 + (cat_age - 2)*5\n",
    "elif cat_age >= 35:\n",
    "    print(\"Vaše kočka je nejstarší kočkou na světě!\")\n",
    "else:\n",
    "    print(\"Error\")\n",
    "\n",
    "if cat_age > 0 and cat_age < 35:\n",
    "    print(\"Vaší míce je {} lidských let\".format(human_age))"
   ]
  }
 ],
 "metadata": {
  "kernelspec": {
   "display_name": "Python 3",
   "language": "python",
   "name": "python3"
  },
  "language_info": {
   "codemirror_mode": {
    "name": "ipython",
    "version": 3
   },
   "file_extension": ".py",
   "mimetype": "text/x-python",
   "name": "python",
   "nbconvert_exporter": "python",
   "pygments_lexer": "ipython3",
   "version": "3.6.1"
  }
 },
 "nbformat": 4,
 "nbformat_minor": 2
}
