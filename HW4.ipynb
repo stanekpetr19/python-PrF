{
 "cells": [
  {
   "cell_type": "code",
   "execution_count": 11,
   "metadata": {},
   "outputs": [
    {
     "data": {
      "text/plain": [
       "{'A': 0.3, 'G': 0.2, 'C': 0.2, 'T': 0.3}"
      ]
     },
     "execution_count": 11,
     "metadata": {},
     "output_type": "execute_result"
    }
   ],
   "source": [
    "#Úkol 1\n",
    "#Vytvořte funkci, která pro sekvencí vypočítá podíl příslušného nukleotidu\n",
    "\n",
    "\n",
    "seq = 'ACTGAATGCT'\n",
    "def nucl_freq(seq):\n",
    "    A_count = 0\n",
    "    G_count = 0\n",
    "    T_count = 0\n",
    "    C_count = 0\n",
    "    for N in list(seq):\n",
    "        if N == 'A':\n",
    "            A_count += 1\n",
    "        elif N == 'C':\n",
    "            C_count += 1\n",
    "        elif N == 'G':\n",
    "            G_count += 1\n",
    "        elif N == 'T': \n",
    "            T_count += 1\n",
    "    return {'A':A_count/len(seq), 'G':G_count/len(seq), 'C':C_count/len(seq), 'T':T_count/len(seq)}\n",
    "        \n",
    "            \n",
    "\n",
    "\n",
    "a_freq = nucl_freq(seq)\n",
    "a_freq\n",
    "\n",
    "\n"
   ]
  },
  {
   "cell_type": "code",
   "execution_count": null,
   "metadata": {},
   "outputs": [],
   "source": [
    "#Úkol 2\n",
    "#S použitím předešlé funkce udělejte jinou funkci, která spočítá podíly všech nukleotidů (A, C, G, T) a vrátí slovník\n",
    "#>>> freqs = nucl_freq_all(seq)\n",
    "#>>> freqs\n",
    "#{'A': 0.3, 'C': 0.2, 'G': 0.2, 'T': 0.3}"
   ]
  }
 ],
 "metadata": {
  "kernelspec": {
   "display_name": "Python 3",
   "language": "python",
   "name": "python3"
  },
  "language_info": {
   "codemirror_mode": {
    "name": "ipython",
    "version": 3
   },
   "file_extension": ".py",
   "mimetype": "text/x-python",
   "name": "python",
   "nbconvert_exporter": "python",
   "pygments_lexer": "ipython3",
   "version": "3.6.9"
  }
 },
 "nbformat": 4,
 "nbformat_minor": 4
}
