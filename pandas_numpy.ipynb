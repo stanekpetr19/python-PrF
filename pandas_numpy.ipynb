{
 "cells": [
  {
   "cell_type": "code",
   "execution_count": 1,
   "metadata": {},
   "outputs": [],
   "source": [
    "import pandas as pd\n",
    "import numpy as np"
   ]
  },
  {
   "cell_type": "code",
   "execution_count": 3,
   "metadata": {},
   "outputs": [
    {
     "name": "stdout",
     "output_type": "stream",
     "text": [
      "   age sex  sample.yr  kappa  lambda  flc.grp  creatinine  mgus  futime  \\\n",
      "1   97   F       1997   5.70   4.860       10         1.7     0      85   \n",
      "2   92   F       2000   0.87   0.683        1         0.9     0    1281   \n",
      "3   94   F       1997   4.36   3.850       10         1.4     0      69   \n",
      "4   92   F       1996   2.42   2.220        9         1.0     0     115   \n",
      "5   93   F       1996   1.32   1.690        6         1.1     0    1039   \n",
      "\n",
      "   death      chapter  \n",
      "1      1  Circulatory  \n",
      "2      1    Neoplasms  \n",
      "3      1  Circulatory  \n",
      "4      1  Circulatory  \n",
      "5      1  Circulatory  \n"
     ]
    }
   ],
   "source": [
    "lchain_data = pd.read_csv('http://vincentarelbundock.github.io/Rdatasets/csv/survival/flchain.csv', index_col = 0)\n",
    "print(lchain_data.head())"
   ]
  }
 ],
 "metadata": {
  "kernelspec": {
   "display_name": "Python 3",
   "language": "python",
   "name": "python3"
  },
  "language_info": {
   "codemirror_mode": {
    "name": "ipython",
    "version": 3
   },
   "file_extension": ".py",
   "mimetype": "text/x-python",
   "name": "python",
   "nbconvert_exporter": "python",
   "pygments_lexer": "ipython3",
   "version": "3.6.9"
  }
 },
 "nbformat": 4,
 "nbformat_minor": 4
}
