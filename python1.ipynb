{
 "cells": [
  {
   "cell_type": "code",
   "execution_count": 21,
   "metadata": {
    "collapsed": true
   },
   "outputs": [],
   "source": [
    "tisk1=\"python\" \n",
    "\n",
    "#vytvori proměnnou tisk1 s obsahem \"python\""
   ]
  },
  {
   "cell_type": "code",
   "execution_count": 22,
   "metadata": {
    "collapsed": true
   },
   "outputs": [],
   "source": [
    "#v pythonu neexistuje metoda pro reverse string?\n",
    "#cele zadadavani indexu je [begin:end:step] - tzn. muzu zadat [::-1] a precte to cely retezec pozpatku?\n",
    "\n",
    "tisk1=tisk1[::-1].upper()\n"
   ]
  },
  {
   "cell_type": "code",
   "execution_count": 23,
   "metadata": {},
   "outputs": [
    {
     "name": "stdout",
     "output_type": "stream",
     "text": [
      "NOHTYP\n"
     ]
    }
   ],
   "source": [
    "print(tisk1) \n",
    "\n",
    "#tiskne promennou tisk1"
   ]
  },
  {
   "cell_type": "code",
   "execution_count": 10,
   "metadata": {
    "collapsed": true
   },
   "outputs": [],
   "source": [
    "apples=0\n",
    "oranges=0\n",
    "\n",
    "#vytvori promenne \"apples\" a \"oranges\" s hodnotami 0\n",
    "#nezjistil jsem jak vytvorit prazdnou ciselnou promennou (musi mit vzdy od zacatku hodnotu??)"
   ]
  },
  {
   "cell_type": "code",
   "execution_count": 5,
   "metadata": {},
   "outputs": [
    {
     "name": "stdout",
     "output_type": "stream",
     "text": [
      "Pocet jablek?17a\n",
      "Pocet pomerancu?18\n"
     ]
    }
   ],
   "source": [
    "apples=input(\"Pocet jablek?\")\n",
    "oranges=input(\"Pocet pomerancu?\")\n",
    "\n",
    "#nasel jsem na netu integrovanou funkci pro zadavani vstupu z primarniho vstupniho zarizeni\n",
    "#zapisuje to vstup jako str, misto int... ach proc?\n",
    "#nvm... asi to musi byt prevedeno rucne nize..."
   ]
  },
  {
   "cell_type": "code",
   "execution_count": null,
   "metadata": {
    "collapsed": true
   },
   "outputs": [],
   "source": [
    "#apples=int(apples)\n",
    "#oranges=int(oranges)\n",
    "\n",
    "#prevedeni rucne... az na to ze to hazi error, pokud tam zadam neco jineho nez cislo...error handling/testovani obsahu?\n",
    "#OK, po projiti netu jsem se rozhodl zkusit error handling\n",
    "\n",
    "#try:\n",
    "#    apples=int(apples)                   #tohle prevede str na int, pokud to nevrati error\n",
    "#    oranges=int(oranges)                 \n",
    "#except ValueError:                       #pokud to vrati error, vykona se print\n",
    "#    print(\"Hezky pokus, ale toto neni cislo!\")    \n",
    "#\n",
    "#jiz neni potreba, presunuto do funkce dole"
   ]
  },
  {
   "cell_type": "code",
   "execution_count": 6,
   "metadata": {},
   "outputs": [
    {
     "name": "stdout",
     "output_type": "stream",
     "text": [
      "Hezky pokus, ale toto neni cislo!\n",
      "Chces to zkusi znovu?\n",
      "Pocet jablek?ufdi\n",
      "Pocet pomerancu?15\n",
      "Hezky pokus, ale toto neni cislo!\n",
      "Chces to zkusi znovu?\n",
      "Pocet jablek?13\n",
      "Pocet pomerancu?8\n",
      "Mám 13 jablek a 8 pomerančů, tedy 21 kusů ovoce.\n"
     ]
    }
   ],
   "source": [
    "opakuj=True\n",
    "while opakuj:                                           #vytvori smycku\n",
    "    if (type(apples)!=int or type(oranges)!=int):       #zkontroluje jestli (ne)jsou promenne typu int\n",
    "        try:\n",
    "            apples=int(apples)                          #tohle prevede str na int, pokud to nevrati error\n",
    "            oranges=int(oranges)                 \n",
    "        except ValueError:                              #pokud to vrati error, vykona se print a novy input a zkusi se znovu\n",
    "            print(\"Hezky pokus, ale toto neni cislo!\")\n",
    "            print(\"Chces to zkusi znovu?\")\n",
    "            apples=input(\"Pocet jablek?\")\n",
    "            oranges=input(\"Pocet pomerancu?\")\n",
    "    else:\n",
    "        print(\"Mám {} jablek a {} pomerančů, tedy {} kusů ovoce.\".format(apples,oranges,(apples+oranges)))\n",
    "        opakuj=False                                   #konecne... pokud jsou obe promenne typu int, vytiskne se vystup a prerusi se smycka\n",
    "    \n",
    "\n",
    "\n",
    "#vytiskne pomoci metody .format vystup\n",
    "#pozn. - promenne musi byt typu int, jinak je to spojuje jako str, misto aby je to secetlo\n",
    "\n",
    "#OK... nasel jsem si syntaxe if else a while fuknci a udelal to blbuvzdornejsi s vice pokusy?\n",
    "#POZN. nefunguje a diky try fukci nahore jiz neni potreba\n",
    "#pozn. POZN. zkombinoval jsem obě funkce a snad to slape..."
   ]
  },
  {
   "cell_type": "code",
   "execution_count": 46,
   "metadata": {},
   "outputs": [
    {
     "data": {
      "text/plain": [
       "int"
      ]
     },
     "execution_count": 46,
     "metadata": {},
     "output_type": "execute_result"
    }
   ],
   "source": [
    "type(apples)\n",
    "type(oranges)"
   ]
  },
  {
   "cell_type": "code",
   "execution_count": 13,
   "metadata": {},
   "outputs": [
    {
     "name": "stdout",
     "output_type": "stream",
     "text": [
      "Mám 0 jablek a 0 pomerančů, tedy celkem 0 kusů ovoce.\n"
     ]
    }
   ],
   "source": [
    "print (\"Mám \" + str(apples) + \" jablek a \" + str(oranges) + \" pomerančů, tedy celkem \" + str(apples+oranges) + \" kusů ovoce.\")"
   ]
  },
  {
   "cell_type": "code",
   "execution_count": 15,
   "metadata": {},
   "outputs": [
    {
     "name": "stdout",
     "output_type": "stream",
     "text": [
      "apples apples apples \n"
     ]
    }
   ],
   "source": [
    "print (3*\"apples \")"
   ]
  },
  {
   "cell_type": "code",
   "execution_count": 16,
   "metadata": {},
   "outputs": [
    {
     "name": "stdout",
     "output_type": "stream",
     "text": [
      "PYTHON\n"
     ]
    }
   ],
   "source": [
    "print (str.upper(\"python\")) "
   ]
  },
  {
   "cell_type": "code",
   "execution_count": 17,
   "metadata": {},
   "outputs": [
    {
     "name": "stdout",
     "output_type": "stream",
     "text": [
      "True\n"
     ]
    }
   ],
   "source": [
    "print (str.upper(\"python\")==\"python\".upper())"
   ]
  },
  {
   "cell_type": "code",
   "execution_count": null,
   "metadata": {
    "collapsed": true
   },
   "outputs": [],
   "source": []
  }
 ],
 "metadata": {
  "kernelspec": {
   "display_name": "Python 3",
   "language": "python",
   "name": "python3"
  },
  "language_info": {
   "codemirror_mode": {
    "name": "ipython",
    "version": 3
   },
   "file_extension": ".py",
   "mimetype": "text/x-python",
   "name": "python",
   "nbconvert_exporter": "python",
   "pygments_lexer": "ipython3",
   "version": "3.6.1"
  }
 },
 "nbformat": 4,
 "nbformat_minor": 2
}
