{
 "cells": [
  {
   "cell_type": "code",
   "execution_count": 18,
   "metadata": {
    "collapsed": true
   },
   "outputs": [],
   "source": [
    "fruits = {'banana':3,'apple':2, 'mango':1, 'kiwi':5}"
   ]
  },
  {
   "cell_type": "code",
   "execution_count": 39,
   "metadata": {
    "collapsed": true
   },
   "outputs": [],
   "source": [
    "#reseni1\n",
    "fruits = {'banana':3,'apple':2, 'mango':1, 'kiwi':5}\n",
    "ov_druhy=list(fruits.keys())\n",
    "L=[]\n",
    "fruitlist=[]\n",
    "for i in ov_druhy:\n",
    "    L=[i]*fruits[str(i)]\n",
    "    fruitlist.append(L)"
   ]
  },
  {
   "cell_type": "code",
   "execution_count": 40,
   "metadata": {},
   "outputs": [
    {
     "data": {
      "text/plain": [
       "[['banana', 'banana', 'banana'],\n",
       " ['apple', 'apple'],\n",
       " ['mango'],\n",
       " ['kiwi', 'kiwi', 'kiwi', 'kiwi', 'kiwi']]"
      ]
     },
     "execution_count": 40,
     "metadata": {},
     "output_type": "execute_result"
    }
   ],
   "source": [
    "fruitlist"
   ]
  },
  {
   "cell_type": "code",
   "execution_count": 37,
   "metadata": {},
   "outputs": [],
   "source": [
    "#reseni2, horsi\n",
    "fruits = {'banana':3,'apple':2, 'mango':1, 'kiwi':5}\n",
    "seznam_ovoce=list(fruits.items())\n",
    "n=0\n",
    "L2=[]\n",
    "fruitlist2=[]\n",
    "while n<len(seznam_ovoce):\n",
    "    L2=[seznam_ovoce[n][0]]*seznam_ovoce[n][1]\n",
    "    fruitlist2.append(L2)\n",
    "    n=n+1"
   ]
  },
  {
   "cell_type": "code",
   "execution_count": 38,
   "metadata": {},
   "outputs": [
    {
     "data": {
      "text/plain": [
       "[['banana', 'banana', 'banana'],\n",
       " ['apple', 'apple'],\n",
       " ['mango'],\n",
       " ['kiwi', 'kiwi', 'kiwi', 'kiwi', 'kiwi']]"
      ]
     },
     "execution_count": 38,
     "metadata": {},
     "output_type": "execute_result"
    }
   ],
   "source": [
    "fruitlist2"
   ]
  },
  {
   "cell_type": "code",
   "execution_count": 48,
   "metadata": {},
   "outputs": [
    {
     "name": "stdout",
     "output_type": "stream",
     "text": [
      "kiwi\n"
     ]
    }
   ],
   "source": [
    "#reseni1 (dle stackoverflow)\n",
    "fruits = ['banana','apple', 'mango', 'kiwi']\n",
    "shortest_fruit = min(fruits, key=len)\n",
    "print(shortest_fruit)"
   ]
  },
  {
   "cell_type": "code",
   "execution_count": 44,
   "metadata": {},
   "outputs": [
    {
     "name": "stdout",
     "output_type": "stream",
     "text": [
      "kiwi\n"
     ]
    }
   ],
   "source": [
    "#reseni2 (dle mne)\n",
    "fruits = ['banana','apple', 'mango', 'kiwi']\n",
    "fruit_dict={}\n",
    "for i in fruits:\n",
    "    D={len(i):i}\n",
    "    fruit_dict.update(D)\n",
    "print(fruit_dict[min(fruit_dict.keys())])"
   ]
  },
  {
   "cell_type": "code",
   "execution_count": null,
   "metadata": {},
   "outputs": [],
   "source": [
    "#fruits = ['banana','apple', 'mango', 'kiwi']\n",
    "#fruit_dict = {}\n",
    "#for i in fruits:\n",
    "#    D = len\n",
    "#shortest_fruit =  "
   ]
  },
  {
   "cell_type": "code",
   "execution_count": 18,
   "metadata": {},
   "outputs": [
    {
     "name": "stdout",
     "output_type": "stream",
     "text": [
      "[['banana', 'banana', 'banana'], ['apple', 'apple'], ['mango'], ['kiwi', 'kiwi', 'kiwi', 'kiwi', 'kiwi']]\n",
      "['kiwi', 'kiwi', 'kiwi', 'kiwi', 'kiwi']\n"
     ]
    }
   ],
   "source": [
    "fruits = {'banana':3,'apple':2, 'mango':1, 'kiwi':5}\n",
    "allfruit_list = []\n",
    "onefruit_list = []\n",
    "for key, value in fruits.items():\n",
    "    onefruit_list = list([key]*value)\n",
    "    allfruit_list.append(onefruit_list)\n",
    "\n",
    "print(allfruit_list)"
   ]
  },
  {
   "cell_type": "code",
   "execution_count": 11,
   "metadata": {},
   "outputs": [
    {
     "name": "stdout",
     "output_type": "stream",
     "text": [
      "[('banana', 3), ('apple', 2), ('mango', 1), ('kiwi', 5)]\n"
     ]
    }
   ],
   "source": [
    "fr = fruits.items()\n",
    "fr_list = list(fr)\n",
    "print (fr_list)\n"
   ]
  },
  {
   "cell_type": "code",
   "execution_count": 16,
   "metadata": {},
   "outputs": [
    {
     "name": "stdout",
     "output_type": "stream",
     "text": [
      "['banana', 'apple', 'mango', 'kiwi']\n"
     ]
    }
   ],
   "source": [
    "list1 = []\n",
    "for key, value in fruits.items():\n",
    "    list1.append(key)\n",
    "print(list1)"
   ]
  }
 ],
 "metadata": {
  "kernelspec": {
   "display_name": "Python 3",
   "language": "python",
   "name": "python3"
  },
  "language_info": {
   "codemirror_mode": {
    "name": "ipython",
    "version": 3
   },
   "file_extension": ".py",
   "mimetype": "text/x-python",
   "name": "python",
   "nbconvert_exporter": "python",
   "pygments_lexer": "ipython3",
   "version": "3.6.9"
  }
 },
 "nbformat": 4,
 "nbformat_minor": 2
}
