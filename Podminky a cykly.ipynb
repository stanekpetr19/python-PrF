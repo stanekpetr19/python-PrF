{
 "cells": [
  {
   "cell_type": "code",
   "execution_count": 2,
   "metadata": {
    "collapsed": true
   },
   "outputs": [],
   "source": [
    "#Odsazení pomocí tabulátoru nebo 4 mezer\n",
    "#Záleží na editoru, hlavně nemíchat!!!"
   ]
  },
  {
   "cell_type": "code",
   "execution_count": 6,
   "metadata": {},
   "outputs": [
    {
     "name": "stdout",
     "output_type": "stream",
     "text": [
      "nevím, jakou hodnotu má x\n"
     ]
    }
   ],
   "source": [
    "x = 1\n",
    "if x > 2:\n",
    "    print('x je více než 2')\n",
    "print('nevím, jakou hodnotu má x')"
   ]
  },
  {
   "cell_type": "code",
   "execution_count": 12,
   "metadata": {},
   "outputs": [
    {
     "name": "stdout",
     "output_type": "stream",
     "text": [
      "Zadej celé číslo: 6\n",
      "Cislo 6 je sudé\n"
     ]
    }
   ],
   "source": [
    "x = int(input('Zadej celé číslo: ')) \n",
    "#funkce input načítá data ze standardního vstupu (klávesnice)\n",
    "#funkce int převede zadaná data na celé číslo\n",
    "if x % 2 == 0:\n",
    "    print(\"Cislo {} je sudé\".format(x))\n",
    "else:\n",
    "    print(\"Cislo {} je leché\".format(x))"
   ]
  },
  {
   "cell_type": "code",
   "execution_count": 47,
   "metadata": {},
   "outputs": [
    {
     "name": "stdout",
     "output_type": "stream",
     "text": [
      "Jaké je tvoje jméno?:Petr\n",
      "True\n",
      "Jsi slavný\n"
     ]
    }
   ],
   "source": [
    "#Máte k dispozici seznam 20 nejčastějších jmen v ČR\n",
    "names_list = ['Jiří', 'Jan', 'Marie', 'Petr', 'Jana', 'Josef', 'Pavel', \n",
    "              'Martin', 'Jaroslav', 'Tomáš', 'Eva', 'Miroslav', 'Hana', \n",
    "              'Anna', 'Zdeněk', 'František', 'Václav', 'Michal', 'Lenka', \n",
    "              'Kateřina']\n",
    "name=str(input(\"Jaké je tvoje jméno?:\"))\n",
    "name_set={name}\n",
    "\n",
    "print(bool(set(names_list).intersection(name_set)))\n",
    "\n",
    "if bool(set(names_list).intersection(name_set)):\n",
    "    print(\"Jsi slavný\")\n",
    "else:\n",
    "    print(\"Jsi jedinečný\")\n",
    "\n",
    "# Napište kód, který se Vás zeptá na jméno a zkontroluje, \n",
    "# zda je v seznamu a vypíše vtipnou hlášku"
   ]
  },
  {
   "cell_type": "code",
   "execution_count": 46,
   "metadata": {},
   "outputs": [
    {
     "data": {
      "text/plain": [
       "[10, 15, 20, 25, 30, 35, 40, 45, 50, 55, 60, 65, 70, 75, 80, 85, 90, 95]"
      ]
     },
     "execution_count": 46,
     "metadata": {},
     "output_type": "execute_result"
    }
   ],
   "source": [
    "# Funkce range vytváří seznam čísel\n",
    "list(range(10,100,5))"
   ]
  },
  {
   "cell_type": "code",
   "execution_count": 52,
   "metadata": {},
   "outputs": [
    {
     "data": {
      "text/plain": [
       "[1, 3, 5, 7, 9, 11, 13, 15]"
      ]
     },
     "execution_count": 52,
     "metadata": {},
     "output_type": "execute_result"
    }
   ],
   "source": [
    "# Cykly - list comprehensions\n",
    "# Dovoluje vytvářet seznamy prvků z jiných seznamů dle určitých kritérií\n",
    "\n",
    "all_numbers = list(range(16))\n",
    "odd_numbers = [x for x in all_numbers if x % 2 == 1]\n",
    "odd_numbers"
   ]
  },
  {
   "cell_type": "code",
   "execution_count": 60,
   "metadata": {},
   "outputs": [
    {
     "data": {
      "text/plain": [
       "[0, 7, 8]"
      ]
     },
     "execution_count": 60,
     "metadata": {},
     "output_type": "execute_result"
    }
   ],
   "source": [
    "seq = 'ACTGCTCAAG'\n",
    "seq_set = list(seq)\n",
    "A_pos = [i for i,x in enumerate(seq_set) if x == \"A\"]\n",
    "A_pos\n",
    "\n",
    "#CAVE! dulezita fce enumerate"
   ]
  },
  {
   "cell_type": "code",
   "execution_count": 1,
   "metadata": {},
   "outputs": [
    {
     "data": {
      "text/plain": [
       "[0, 7, 8]"
      ]
     },
     "execution_count": 1,
     "metadata": {},
     "output_type": "execute_result"
    }
   ],
   "source": [
    "seq = 'ACTGCTCAAG'\n",
    "seq_set = list(seq)\n",
    "A_pos = [x for x in range(len(seq_set)) if seq_set[x] == \"A\"]\n",
    "A_pos"
   ]
  },
  {
   "cell_type": "code",
   "execution_count": 4,
   "metadata": {},
   "outputs": [
    {
     "name": "stdout",
     "output_type": "stream",
     "text": [
      "Zadejte své jméno:FUCK\n",
      "foxtrot\n",
      "uniform\n",
      "charlie\n",
      "kilo\n"
     ]
    }
   ],
   "source": [
    "#Máte k dispozici mezinárodní hláskovací abecedu\n",
    "d = {'a':'alfa', 'b':'bravo', 'c':'charlie', 'd':'delta', 'e':'echo', 'f':'foxtrot', \n",
    "     'g':'golf', 'h':'hotel', 'i':'india', 'j':'juliett', 'k':'kilo', 'l':'lima', 'm':'mike', \n",
    "     'n':'november', 'o':'oscar', 'p':'papa', 'q':'quebec', 'r':'romeo', 's':'sierra', 't':'tango', \n",
    "     'u':'uniform', 'v':'victor', 'w':'whiskey', 'x':'x-ray', 'y':'yankee', 'z':'zulu'}\n",
    "name=str(input(\"Zadejte své jméno:\")).lower()\n",
    "name_letters=list(name)\n",
    "for x in name_letters:\n",
    "    if bool(set(d).intersection(x)):\n",
    "        print(d[x])\n",
    "    else:\n",
    "        print(\"Error(Prosím použijte pouze písmena bez diakritiky)\")\n",
    "        break"
   ]
  },
  {
   "cell_type": "code",
   "execution_count": 6,
   "metadata": {},
   "outputs": [
    {
     "name": "stdout",
     "output_type": "stream",
     "text": [
      "Zadejte hledaný výraz:kilo\n",
      "Heureka! Výraz kilo nalezen!\n"
     ]
    }
   ],
   "source": [
    "# Pomocí příkazu for a break napište kód, který\n",
    "#    Zeptá se na novou položku\n",
    "#    Projde seznam \n",
    "#    Když položku najde, vypíše ji a nehledá dál\n",
    "\n",
    "l = d.values()\n",
    "list1 = list(l)\n",
    "search = input(\"Zadejte hledaný výraz:\")\n",
    "for x in list1:\n",
    "    if x==search:\n",
    "        print(\"Heureka! Výraz \" + x + \" nalezen!\")\n",
    "        break\n",
    "    elif x==list1[len(list1)-1] and x != search:\n",
    "        print(\"Váraz nenalezen!\")\n",
    "    else:\n",
    "        continue"
   ]
  }
 ],
 "metadata": {
  "kernelspec": {
   "display_name": "Python 3",
   "language": "python",
   "name": "python3"
  },
  "language_info": {
   "codemirror_mode": {
    "name": "ipython",
    "version": 3
   },
   "file_extension": ".py",
   "mimetype": "text/x-python",
   "name": "python",
   "nbconvert_exporter": "python",
   "pygments_lexer": "ipython3",
   "version": "3.6.9"
  }
 },
 "nbformat": 4,
 "nbformat_minor": 2
}
