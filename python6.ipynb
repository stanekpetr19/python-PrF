{
 "cells": [
  {
   "cell_type": "code",
   "execution_count": 41,
   "metadata": {},
   "outputs": [
    {
     "name": "stdout",
     "output_type": "stream",
     "text": [
      "Pocet pasazeru s pouze jedním krestním jménem je: 464\n"
     ]
    }
   ],
   "source": [
    "# Spočítejte, kolik pasažérů má jenom jedno křestní jméno. (Nápověda: použijte funkci str.len())\n",
    "\n",
    "# nevím jak tu využít str.len(), ale tady je moje řešení\n",
    "\n",
    "import pandas as pd\n",
    "import numpy as np\n",
    "\n",
    "titanic = pd.read_excel('http://biostat.mc.vanderbilt.edu/wiki/pub/Main/DataSets/titanic3.xls')   #nacte data\n",
    "\n",
    "titanic[\"first&middle_name\"] = titanic[\"name\"].str.split(\".\").str.get(1)                          #vybere ze jména jen část bez oslovení a přijmení\n",
    "titanic_namedf = pd.DataFrame(titanic[\"first&middle_name\"])                                       #převede znovu na dataframe\n",
    "titanic_namedf[\"first&middle_name\"] = titanic_namedf[\"first&middle_name\"].str.lstrip()            #odstraní mezeru co zbyla na začátku\n",
    "titanic_namedf[\"1middle_name\"] = titanic_namedf[\"first&middle_name\"].str.split(\" \").str.get(1)    #vybere jméno za prvním křestním, pokud existuje\n",
    "\n",
    "print(\"Pocet pasazeru s pouze jedním krestním jménem je: {}\".format(                              #spočítá jaký kolik pasažérů mělo ještě nějaké jméno za prvním křestním (downside je že neřeší přezdívky a věci typu \"Jr\", \"D\" apod., asi by se dalo řešit nějakou iterací s rozpoznáním uvozovek a jmen pod tři písmena délky)\n",
    "    len(titanic_namedf[\"1middle_name\"]) - titanic_namedf[\"1middle_name\"].count()))                #a vytiskne zprávu\n",
    "\n"
   ]
  },
  {
   "cell_type": "code",
   "execution_count": 70,
   "metadata": {},
   "outputs": [
    {
     "name": "stdout",
     "output_type": "stream",
     "text": [
      "Loď číslo 13 je hrdinou dne, zachránila 39 lidí!\n"
     ]
    }
   ],
   "source": [
    "# Zjistěte, ve kterém záchranném člunu bylo nejvíce lidí. (Nápověda: použijte funkci groupby() a argmax())\n",
    "\n",
    "import pandas as pd\n",
    "import numpy as np\n",
    "\n",
    "titanic = pd.read_excel('http://biostat.mc.vanderbilt.edu/wiki/pub/Main/DataSets/titanic3.xls')   #nacte data\n",
    "\n",
    "titanic_saved = titanic[titanic['boat'].notnull()]                      #zahodi pasazery co nebyli zachraněni\n",
    "dabest_boat = titanic_saved.groupby(\"boat\").name.count().argmax()                     \n",
    "#za predpokladu ze kazdý pasazer mel jmeno (muzeme overit pomoci titanic.isnull().any()) vrati lod s nejvetsim poctem zachranenych\n",
    "\n",
    "print(\"Loď číslo {} je hrdinou dne, zachránila {} lidí!\".format(dabest_boat,titanic_saved.groupby(\"boat\").name.count()[dabest_boat]))"
   ]
  },
  {
   "cell_type": "code",
   "execution_count": null,
   "metadata": {
    "collapsed": true
   },
   "outputs": [],
   "source": [
    "# Alt. řešení 1. úkolu viz zápisky z lekce 11\n",
    "\n"
   ]
  }
 ],
 "metadata": {
  "kernelspec": {
   "display_name": "Python 3",
   "language": "python",
   "name": "python3"
  },
  "language_info": {
   "codemirror_mode": {
    "name": "ipython",
    "version": 3
   },
   "file_extension": ".py",
   "mimetype": "text/x-python",
   "name": "python",
   "nbconvert_exporter": "python",
   "pygments_lexer": "ipython3",
   "version": "3.6.9"
  }
 },
 "nbformat": 4,
 "nbformat_minor": 2
}
